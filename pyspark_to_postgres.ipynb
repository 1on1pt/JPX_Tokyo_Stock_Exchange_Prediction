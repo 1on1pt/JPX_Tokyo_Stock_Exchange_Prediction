{
  "nbformat": 4,
  "nbformat_minor": 0,
  "metadata": {
    "colab": {
      "name": "pyspark_to_postgres.ipynb",
      "provenance": [],
      "authorship_tag": "ABX9TyMJrOk6cRqMZy+H51y25lVL",
      "include_colab_link": true
    },
    "kernelspec": {
      "name": "python3",
      "display_name": "Python 3"
    },
    "language_info": {
      "name": "python"
    }
  },
  "cells": [
    {
      "cell_type": "markdown",
      "metadata": {
        "id": "view-in-github",
        "colab_type": "text"
      },
      "source": [
        "<a href=\"https://colab.research.google.com/github/1on1pt/JPX_Tokyo_Stock_Exchange_Prediction/blob/Jerri/pyspark_to_postgres.ipynb\" target=\"_parent\"><img src=\"https://colab.research.google.com/assets/colab-badge.svg\" alt=\"Open In Colab\"/></a>"
      ]
    },
    {
      "cell_type": "code",
      "metadata": {
        "id": "V58rxea0HqSa",
        "colab": {
          "base_uri": "https://localhost:8080/"
        },
        "outputId": "bbab96cc-5a10-498f-bbd1-baebcba90d5c"
      },
      "source": [
        "import os\n",
        "# Find the latest version of spark 3.0 from http://www.apache.org/dist/spark/ and enter as the spark version\n",
        "# For example:\n",
        "# spark_version = 'spark-3.0.3'\n",
        "spark_version = 'spark-3.1.3'\n",
        "os.environ['SPARK_VERSION']=spark_version\n",
        "\n",
        "# Install Spark and Java\n",
        "!apt-get update\n",
        "!apt-get install openjdk-11-jdk-headless -qq > /dev/null\n",
        "!wget -q http://www.apache.org/dist/spark/$SPARK_VERSION/$SPARK_VERSION-bin-hadoop2.7.tgz\n",
        "!tar xf $SPARK_VERSION-bin-hadoop2.7.tgz\n",
        "!pip install -q findspark\n",
        "\n",
        "# Set Environment Variables\n",
        "import os\n",
        "os.environ[\"JAVA_HOME\"] = \"/usr/lib/jvm/java-11-openjdk-amd64\"\n",
        "os.environ[\"SPARK_HOME\"] = f\"/content/{spark_version}-bin-hadoop2.7\"\n",
        "\n",
        "# Start a SparkSession\n",
        "import findspark\n",
        "findspark.init()"
      ],
      "execution_count": 1,
      "outputs": [
        {
          "output_type": "stream",
          "name": "stdout",
          "text": [
            "\r0% [Working]\r            \rGet:1 https://developer.download.nvidia.com/compute/cuda/repos/ubuntu1804/x86_64  InRelease [1,581 B]\n",
            "Get:2 https://cloud.r-project.org/bin/linux/ubuntu bionic-cran40/ InRelease [3,626 B]\n",
            "Ign:3 https://developer.download.nvidia.com/compute/machine-learning/repos/ubuntu1804/x86_64  InRelease\n",
            "Get:4 https://developer.download.nvidia.com/compute/cuda/repos/ubuntu1804/x86_64  Packages [748 kB]\n",
            "Hit:5 http://archive.ubuntu.com/ubuntu bionic InRelease\n",
            "Get:6 http://security.ubuntu.com/ubuntu bionic-security InRelease [88.7 kB]\n",
            "Hit:7 https://developer.download.nvidia.com/compute/machine-learning/repos/ubuntu1804/x86_64  Release\n",
            "Get:8 http://archive.ubuntu.com/ubuntu bionic-updates InRelease [88.7 kB]\n",
            "Get:9 https://cloud.r-project.org/bin/linux/ubuntu bionic-cran40/ Packages [85.2 kB]\n",
            "Get:10 http://ppa.launchpad.net/c2d4u.team/c2d4u4.0+/ubuntu bionic InRelease [15.9 kB]\n",
            "Get:12 http://archive.ubuntu.com/ubuntu bionic-backports InRelease [74.6 kB]\n",
            "Get:13 http://security.ubuntu.com/ubuntu bionic-security/universe amd64 Packages [1,503 kB]\n",
            "Hit:14 http://ppa.launchpad.net/cran/libgit2/ubuntu bionic InRelease\n",
            "Get:15 http://archive.ubuntu.com/ubuntu bionic-updates/main amd64 Packages [3,195 kB]\n",
            "Get:16 http://ppa.launchpad.net/deadsnakes/ppa/ubuntu bionic InRelease [15.9 kB]\n",
            "Get:17 http://security.ubuntu.com/ubuntu bionic-security/main amd64 Packages [2,761 kB]\n",
            "Get:18 http://security.ubuntu.com/ubuntu bionic-security/restricted amd64 Packages [932 kB]\n",
            "Get:19 http://archive.ubuntu.com/ubuntu bionic-updates/universe amd64 Packages [2,277 kB]\n",
            "Get:20 http://archive.ubuntu.com/ubuntu bionic-updates/restricted amd64 Packages [966 kB]\n",
            "Get:21 http://ppa.launchpad.net/graphics-drivers/ppa/ubuntu bionic InRelease [21.3 kB]\n",
            "Get:22 http://ppa.launchpad.net/c2d4u.team/c2d4u4.0+/ubuntu bionic/main Sources [1,957 kB]\n",
            "Get:23 http://ppa.launchpad.net/c2d4u.team/c2d4u4.0+/ubuntu bionic/main amd64 Packages [1,004 kB]\n",
            "Get:24 http://ppa.launchpad.net/deadsnakes/ppa/ubuntu bionic/main amd64 Packages [45.3 kB]\n",
            "Get:25 http://ppa.launchpad.net/graphics-drivers/ppa/ubuntu bionic/main amd64 Packages [44.3 kB]\n",
            "Fetched 15.8 MB in 10s (1,647 kB/s)\n",
            "Reading package lists... Done\n"
          ]
        }
      ]
    },
    {
      "cell_type": "code",
      "source": [
        "# Download the Postgres driver that will allow Spark to interact with Postgres.\n",
        "!wget https://jdbc.postgresql.org/download/postgresql-42.2.16.jar"
      ],
      "metadata": {
        "colab": {
          "base_uri": "https://localhost:8080/"
        },
        "id": "XX-nmjL_8Q64",
        "outputId": "0515bd8a-0011-405b-a72a-a44efb7f411c"
      },
      "execution_count": 2,
      "outputs": [
        {
          "output_type": "stream",
          "name": "stdout",
          "text": [
            "--2022-05-14 14:20:54--  https://jdbc.postgresql.org/download/postgresql-42.2.16.jar\n",
            "Resolving jdbc.postgresql.org (jdbc.postgresql.org)... 72.32.157.228, 2001:4800:3e1:1::228\n",
            "Connecting to jdbc.postgresql.org (jdbc.postgresql.org)|72.32.157.228|:443... connected.\n",
            "HTTP request sent, awaiting response... 200 OK\n",
            "Length: 1002883 (979K) [application/java-archive]\n",
            "Saving to: ‘postgresql-42.2.16.jar’\n",
            "\n",
            "postgresql-42.2.16. 100%[===================>] 979.38K  1.23MB/s    in 0.8s    \n",
            "\n",
            "2022-05-14 14:20:55 (1.23 MB/s) - ‘postgresql-42.2.16.jar’ saved [1002883/1002883]\n",
            "\n"
          ]
        }
      ]
    },
    {
      "cell_type": "code",
      "source": [
        "from pyspark.sql import SparkSession\n",
        "spark = SparkSession.builder.appName(\"M16-Amazon-Challenge\").config(\"spark.driver.extraClassPath\",\"/content/postgresql-42.2.16.jar\").getOrCreate()"
      ],
      "metadata": {
        "id": "EKreU2U18soj"
      },
      "execution_count": 3,
      "outputs": []
    },
    {
      "cell_type": "code",
      "source": [
        "prices_df = spark.read.options(header='True', inferSchema='True', delimiter=',') \\\n",
        "  .csv(\"prices_clean.csv\")"
      ],
      "metadata": {
        "id": "GMuCdygQ96xi"
      },
      "execution_count": 7,
      "outputs": []
    },
    {
      "cell_type": "code",
      "source": [
        "prices_df.show()"
      ],
      "metadata": {
        "colab": {
          "base_uri": "https://localhost:8080/"
        },
        "id": "XMHRjnx_H70a",
        "outputId": "bc205982-cd73-4cd1-ff9d-a0d598d81323"
      },
      "execution_count": 8,
      "outputs": [
        {
          "output_type": "stream",
          "name": "stdout",
          "text": [
            "+-------------+----------+--------------+------+------+------+------+-------+---------------+-------------------+\n",
            "|        RowId|      Date|SecuritiesCode|  Open|  High|   Low| Close| Volume|SupervisionFlag|             Target|\n",
            "+-------------+----------+--------------+------+------+------+------+-------+---------------+-------------------+\n",
            "|20170104_1301|2017-01-04|          1301|2734.0|2755.0|2730.0|2742.0|  31400|          false|  7.304601899196E-4|\n",
            "|20170104_1332|2017-01-04|          1332| 568.0| 576.0| 563.0| 571.0|2798500|          false| 0.0123239436619717|\n",
            "|20170104_1333|2017-01-04|          1333|3150.0|3210.0|3140.0|3210.0| 270800|          false| 0.0061538461538461|\n",
            "|20170104_1376|2017-01-04|          1376|1510.0|1550.0|1510.0|1550.0|  11300|          false| 0.0110533159947985|\n",
            "|20170104_1377|2017-01-04|          1377|3270.0|3350.0|3270.0|3330.0| 150800|          false| 0.0030257186081694|\n",
            "|20170104_1379|2017-01-04|          1379|2105.0|2147.0|2101.0|2143.0|  77300|          false| 0.0051691729323308|\n",
            "|20170104_1381|2017-01-04|          1381|1950.0|1960.0|1949.0|1960.0|   1300|          false|-0.0093264248704663|\n",
            "|20170104_1407|2017-01-04|          1407| 857.0| 877.0| 851.0| 866.0| 147000|          false|-0.0034370822990262|\n",
            "|20170104_1414|2017-01-04|          1414|4940.0|5060.0|4935.0|5050.0| 119600|          false|                0.0|\n",
            "|20170104_1417|2017-01-04|          1417|1051.0|1063.0|1048.0|1053.0| 347500|          false|-0.0074626865671642|\n",
            "|20170104_1419|2017-01-04|          1419| 526.0| 535.0| 526.0| 535.0|  51600|          false| 0.0092592592592593|\n",
            "|20170104_1429|2017-01-04|          1429| 418.0| 420.0| 418.0| 418.0|  24900|          false| 0.0071599045346062|\n",
            "|20170104_1435|2017-01-04|          1435|4165.0|4180.0|4100.0|4165.0|  95700|          false|-0.0236406619385343|\n",
            "|20170104_1515|2017-01-04|          1515|5610.0|5740.0|5560.0|5720.0|  25200|          false|-0.0265017667844522|\n",
            "|20170104_1518|2017-01-04|          1518|1298.0|1340.0|1298.0|1330.0| 124300|          false|-0.0075585789871503|\n",
            "|20170104_1605|2017-01-04|          1605|1182.5|1201.0|1180.0|1190.0|5927100|          false|-0.0124143835616438|\n",
            "|20170104_1662|2017-01-04|          1662|2629.0|2728.0|2629.0|2672.0| 532800|          false|-0.0049149338374291|\n",
            "|20170104_1663|2017-01-04|          1663|1844.0|1871.0|1813.0|1871.0|  27400|          false| 0.0069630423138724|\n",
            "|20170104_1712|2017-01-04|          1712|1458.0|1490.0|1445.0|1483.0|  23300|          false|-0.0080593165699548|\n",
            "|20170104_1716|2017-01-04|          1716| 998.0|1024.0| 998.0|1023.0|  42600|          false| 0.0049164208456244|\n",
            "+-------------+----------+--------------+------+------+------+------+-------+---------------+-------------------+\n",
            "only showing top 20 rows\n",
            "\n"
          ]
        }
      ]
    },
    {
      "cell_type": "code",
      "source": [
        "# Configure settings for RDS\n",
        "mode = \"append\"\n",
        "jdbc_url=\"jdbc:postgresql://tokyose.ctcjkv5b73cy.us-east-1.rds.amazonaws.com:5432/tokyo_se\"\n",
        "config = {\"user\":\"bootcamp\", \n",
        "          \"password\": \"tokyoBull$\", \n",
        "          \"driver\":\"org.postgresql.Driver\"}"
      ],
      "metadata": {
        "id": "n-YFn_9MIDq1"
      },
      "execution_count": 15,
      "outputs": []
    },
    {
      "cell_type": "code",
      "source": [
        "# Write prices_df to table in RDS\n",
        "prices_df.write.jdbc(url=jdbc_url, table='prices_table', mode=mode, properties=config)"
      ],
      "metadata": {
        "id": "po-Rld7YKV6d"
      },
      "execution_count": 16,
      "outputs": []
    },
    {
      "cell_type": "markdown",
      "source": [
        "**financials data**"
      ],
      "metadata": {
        "id": "QoB7O3sXadKr"
      }
    },
    {
      "cell_type": "code",
      "source": [
        "#create df from cleaned csv\n",
        "financials_df = spark.read.options(header='True', inferSchema='True', delimiter=',') \\\n",
        "  .csv(\"financials_clean.csv\")"
      ],
      "metadata": {
        "id": "BsVdMNbpapWm"
      },
      "execution_count": 17,
      "outputs": []
    },
    {
      "cell_type": "code",
      "source": [
        "#show df\n",
        "financials_df.show()"
      ],
      "metadata": {
        "colab": {
          "base_uri": "https://localhost:8080/"
        },
        "id": "1k5Zap15c8LF",
        "outputId": "732d348a-b81e-4cdd-c9c0-0b6925e63643"
      },
      "execution_count": 19,
      "outputs": [
        {
          "output_type": "stream",
          "name": "stdout",
          "text": [
            "+----------------+----------+--------------+------------+----------------+------------+------------------------+-----------------------------+\n",
            "|disclosurenumber|      date|securitiescode|    netsales|earningspershare|      equity|forecastearningspershare|materialchangesinsubsidiaries|\n",
            "+----------------+----------+--------------+------------+----------------+------------+------------------------+-----------------------------+\n",
            "|  20211203446434|2021-12-03|          2929| 12606000000|           42.45|  8788000000|                  138.36|                        false|\n",
            "|  20211203446277|2021-12-03|          9627|152972000000|           94.68|115810000000|                  234.28|                        false|\n",
            "|  20211203446219|2021-12-03|          3657| 24334000000|           42.87| 17065000000|                   56.53|                        false|\n",
            "|  20211202446055|2021-12-03|          2353|  6286000000|            2.82| 10198000000|                    8.91|                        false|\n",
            "|  20211202446017|2021-12-03|          6898|  1293000000|          184.73|  3284000000|                  142.01|                        false|\n",
            "|  20211202445827|2021-12-03|          2910| 22926000000|           27.42| 28638000000|                   37.65|                        false|\n",
            "|  20211202445729|2021-12-02|          6778|   876000000|            8.32|  6566000000|                   86.72|                        false|\n",
            "|  20211202445646|2021-12-02|          3031|  2295000000|           -0.12|  5205000000|                     0.0|                        false|\n",
            "|  20211202445565|2021-12-03|          4421|  4656000000|            48.9|  1062000000|                   52.97|                        false|\n",
            "|  20211201444501|2021-12-01|          2593|208716000000|           62.57|158609000000|                  102.84|                        false|\n",
            "|  20211130444265|2021-11-30|          6182|  2049000000|            5.15|  2392000000|                     0.0|                        false|\n",
            "|  20211130444243|2021-11-30|          6182|  1033000000|            2.98|  2368000000|                   21.89|                        false|\n",
            "|  20211130444219|2021-11-30|          6182|  4004000000|           -6.53|  2450000000|                   21.89|                         true|\n",
            "|  20211130444191|2021-12-03|          4699|  4211000000|          139.97|  8634000000|                  222.51|                        false|\n",
            "|  20211130444035|2021-12-01|          4750|  4653000000|            1.15|  6550000000|                     7.8|                        false|\n",
            "|  20211130443405|2021-12-03|          4707|  2545000000|            5.56|  2655000000|                   35.53|                        false|\n",
            "|  20211126441673|2021-11-26|          2590|124658000000|          250.15| 86504000000|                  166.46|                        false|\n",
            "|  20211125441575|2021-11-26|          3816|   685000000|           26.25|  4284000000|                   80.69|                        false|\n",
            "|  20211125441531|2021-12-03|          3172|  2865000000|           33.49|  5475000000|                   166.5|                        false|\n",
            "|  20211124440485|2021-11-25|          7590| 15965000000|           68.77| 12652000000|                   75.45|                        false|\n",
            "+----------------+----------+--------------+------------+----------------+------------+------------------------+-----------------------------+\n",
            "only showing top 20 rows\n",
            "\n"
          ]
        }
      ]
    },
    {
      "cell_type": "code",
      "source": [
        "#write data to RDS for financials\n",
        "financials_df.write.jdbc(url=jdbc_url, table='financials_table', mode=mode, properties=config)"
      ],
      "metadata": {
        "id": "73mYzYt-b462"
      },
      "execution_count": 20,
      "outputs": []
    }
  ]
}
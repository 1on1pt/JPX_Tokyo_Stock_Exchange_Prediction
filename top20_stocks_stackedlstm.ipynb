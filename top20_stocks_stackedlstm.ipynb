{
 "cells": [
  {
   "cell_type": "code",
   "execution_count": 1,
   "id": "f98a8075",
   "metadata": {},
   "outputs": [],
   "source": [
    "# Initial imports\n",
    "import pandas as pd\n",
    "import matplotlib.pyplot as plt \n",
    "import numpy as np\n",
    "import math\n",
    "import datetime as dt\n",
    "from datetime import date,timedelta\n",
    "from numpy import array"
   ]
  },
  {
   "cell_type": "code",
   "execution_count": 2,
   "id": "e1eda1e9",
   "metadata": {},
   "outputs": [
    {
     "data": {
      "text/html": [
       "<div>\n",
       "<style scoped>\n",
       "    .dataframe tbody tr th:only-of-type {\n",
       "        vertical-align: middle;\n",
       "    }\n",
       "\n",
       "    .dataframe tbody tr th {\n",
       "        vertical-align: top;\n",
       "    }\n",
       "\n",
       "    .dataframe thead th {\n",
       "        text-align: right;\n",
       "    }\n",
       "</style>\n",
       "<table border=\"1\" class=\"dataframe\">\n",
       "  <thead>\n",
       "    <tr style=\"text-align: right;\">\n",
       "      <th></th>\n",
       "      <th>Date</th>\n",
       "      <th>SecuritiesCode</th>\n",
       "      <th>Rank</th>\n",
       "    </tr>\n",
       "  </thead>\n",
       "  <tbody>\n",
       "    <tr>\n",
       "      <th>0</th>\n",
       "      <td>2021-12-06</td>\n",
       "      <td>1301</td>\n",
       "      <td>1145</td>\n",
       "    </tr>\n",
       "    <tr>\n",
       "      <th>1</th>\n",
       "      <td>2021-12-06</td>\n",
       "      <td>1332</td>\n",
       "      <td>1371</td>\n",
       "    </tr>\n",
       "    <tr>\n",
       "      <th>2</th>\n",
       "      <td>2021-12-06</td>\n",
       "      <td>1333</td>\n",
       "      <td>1137</td>\n",
       "    </tr>\n",
       "    <tr>\n",
       "      <th>3</th>\n",
       "      <td>2021-12-06</td>\n",
       "      <td>1376</td>\n",
       "      <td>340</td>\n",
       "    </tr>\n",
       "    <tr>\n",
       "      <th>4</th>\n",
       "      <td>2021-12-06</td>\n",
       "      <td>1377</td>\n",
       "      <td>732</td>\n",
       "    </tr>\n",
       "  </tbody>\n",
       "</table>\n",
       "</div>"
      ],
      "text/plain": [
       "         Date  SecuritiesCode  Rank\n",
       "0  2021-12-06            1301  1145\n",
       "1  2021-12-06            1332  1371\n",
       "2  2021-12-06            1333  1137\n",
       "3  2021-12-06            1376   340\n",
       "4  2021-12-06            1377   732"
      ]
     },
     "execution_count": 2,
     "metadata": {},
     "output_type": "execute_result"
    }
   ],
   "source": [
    "# Load the rankings file\n",
    "file=\"rankings2000s.56d.15e.100ip.csv\"\n",
    "rankings_df=pd.read_csv(file)\n",
    "rankings_df.head()"
   ]
  },
  {
   "cell_type": "code",
   "execution_count": 3,
   "id": "a41467cc",
   "metadata": {},
   "outputs": [],
   "source": [
    "# create a list of all the securities\n",
    "one_date_df=rankings_df.loc[(rankings_df['Date']==rankings_df['Date'][0]),['SecuritiesCode']]\n",
    "securities=one_date_df['SecuritiesCode'].tolist()"
   ]
  },
  {
   "cell_type": "code",
   "execution_count": 4,
   "id": "86b5184f",
   "metadata": {},
   "outputs": [
    {
     "data": {
      "text/plain": [
       "[(5992, 18.375),\n",
       " (6279, 19.071428571428573),\n",
       " (8715, 20.107142857142858),\n",
       " (7203, 22.428571428571427),\n",
       " (4781, 22.517857142857142),\n",
       " (9470, 23.767857142857142),\n",
       " (3107, 24.642857142857142),\n",
       " (2471, 26.178571428571427),\n",
       " (9090, 26.285714285714285),\n",
       " (4587, 29.125),\n",
       " (6444, 29.232142857142858),\n",
       " (8066, 30.160714285714285),\n",
       " (4612, 31.178571428571427),\n",
       " (7814, 33.392857142857146),\n",
       " (3433, 34.517857142857146),\n",
       " (7749, 35.67857142857143),\n",
       " (4767, 37.589285714285715),\n",
       " (9719, 44.535714285714285),\n",
       " (6306, 47.30357142857143),\n",
       " (3341, 48.5)]"
      ]
     },
     "execution_count": 4,
     "metadata": {},
     "output_type": "execute_result"
    }
   ],
   "source": [
    "# calculate the average rank of each stock and get the top 20\n",
    "\n",
    "#make a dictionary of stocks and their average rank\n",
    "average_rank={}\n",
    "for stock in securities:\n",
    "    one_stock_rank_df=rankings_df.loc[rankings_df['SecuritiesCode']==stock]\n",
    "    ave_rank=one_stock_rank_df['Rank'].mean()\n",
    "    average_rank[stock]=ave_rank\n",
    "\n",
    "# sort the average rank dictionary\n",
    "sorted_average_rank=sorted(average_rank.items(), key=lambda x: x[1])\n",
    "\n",
    "# keep the top 20\n",
    "top_20_tuple=sorted_average_rank[:20]\n",
    "top_20_tuple"
   ]
  },
  {
   "cell_type": "code",
   "execution_count": 5,
   "id": "88b8e6b1",
   "metadata": {},
   "outputs": [],
   "source": [
    "# create a top 20 list and write to a text file\n",
    "top_20=[]\n",
    "for i in range(len(top_20_tuple)):\n",
    "    top_20.append(top_20_tuple[i][0])\n",
    "textfile = open(\"top20_stackedlstm.txt\", \"w\")\n",
    "for stock in top_20:\n",
    "    textfile.write(str(stock) + \"\\n\")\n",
    "textfile.close()"
   ]
  },
  {
   "cell_type": "code",
   "execution_count": 6,
   "id": "1c384844",
   "metadata": {},
   "outputs": [
    {
     "data": {
      "text/plain": [
       "[5992,\n",
       " 6279,\n",
       " 8715,\n",
       " 7203,\n",
       " 4781,\n",
       " 9470,\n",
       " 3107,\n",
       " 2471,\n",
       " 9090,\n",
       " 4587,\n",
       " 6444,\n",
       " 8066,\n",
       " 4612,\n",
       " 7814,\n",
       " 3433,\n",
       " 7749,\n",
       " 4767,\n",
       " 9719,\n",
       " 6306,\n",
       " 3341,\n",
       " 2613,\n",
       " 7192,\n",
       " 7820,\n",
       " 7003,\n",
       " 3835,\n",
       " 3176,\n",
       " 4526,\n",
       " 8174,\n",
       " 8344,\n",
       " 4348,\n",
       " 2726,\n",
       " 6762,\n",
       " 4027,\n",
       " 9308,\n",
       " 6794,\n",
       " 1939,\n",
       " 8530,\n",
       " 6197,\n",
       " 1821,\n",
       " 1815]"
      ]
     },
     "execution_count": 6,
     "metadata": {},
     "output_type": "execute_result"
    }
   ],
   "source": [
    "# create a top 40 list and write to a text file\n",
    "# keep the top 40\n",
    "top_40_tuple=sorted_average_rank[:40]\n",
    "top_40_tuple\n",
    "top_40=[]\n",
    "for i in range(len(top_40_tuple)):\n",
    "    top_40.append(top_40_tuple[i][0])\n",
    "textfile = open(\"top40_stackedlstm.txt\", \"w\")\n",
    "for stock in top_40:\n",
    "    textfile.write(str(stock) + \"\\n\")\n",
    "textfile.close()\n",
    "top_40"
   ]
  },
  {
   "cell_type": "code",
   "execution_count": null,
   "id": "c92ec7b1",
   "metadata": {},
   "outputs": [],
   "source": []
  }
 ],
 "metadata": {
  "kernelspec": {
   "display_name": "mlenv",
   "language": "python",
   "name": "mlenv"
  },
  "language_info": {
   "codemirror_mode": {
    "name": "ipython",
    "version": 3
   },
   "file_extension": ".py",
   "mimetype": "text/x-python",
   "name": "python",
   "nbconvert_exporter": "python",
   "pygments_lexer": "ipython3",
   "version": "3.7.11"
  }
 },
 "nbformat": 4,
 "nbformat_minor": 5
}
